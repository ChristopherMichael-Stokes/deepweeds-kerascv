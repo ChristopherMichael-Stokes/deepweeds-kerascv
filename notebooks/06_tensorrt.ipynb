{
 "cells": [
  {
   "cell_type": "code",
   "execution_count": 1,
   "metadata": {},
   "outputs": [],
   "source": [
    "import tensorrt"
   ]
  },
  {
   "cell_type": "code",
   "execution_count": 2,
   "metadata": {},
   "outputs": [
    {
     "name": "stdout",
     "output_type": "stream",
     "text": [
      "/home/chris/repos/deepweeds-kerascv/.venv/lib/python3.11/site-packages/nvidia/nvjitlink/lib:/home/chris/repos/deepweeds-kerascv/.venv/lib/python3.11/site-packages/tensorrt_libs:/home/chris/repos/deepweeds-kerascv/.venv/lib/python3.11/site-packages/tensorrt_libs:/home/chris/repos/deepweeds-kerascv/.venv/lib/python3.11/site-packages/nvidia/cudnn/lib:/home/chris/repos/deepweeds-kerascv/.venv/lib/python3.11/site-packages/nvidia/cuda_nvrtc/lib:/home/chris/repos/deepweeds-kerascv/.venv/lib/python3.11/site-packages/nvidia/cudnn/lib:/home/chris/repos/deepweeds-kerascv/.venv/lib/python3.11/site-packages/tensorrt_libs:/home/chris/repos/deepweeds-kerascv/.venv/lib/python3.11/site-packages/nvidia/cuda_runtime/lib:/home/chris/repos/deepweeds-kerascv/.venv/lib/python3.11/site-packages/nvidia/cudnn/lib:/home/chris/repos/deepweeds-kerascv/.venv/lib/python3.11/site-packages/nvidia/cublas/lib:/home/chris/repos/deepweeds-kerascv/.venv/lib/python3.11/site-packages/nvidia/cudnn/lib:/home/chris/repos/deepweeds-kerascv/.venv/lib/python3.11/site-packages/nvidia/cudnn/lib:/home/chris/repos/deepweeds-kerascv/.venv/lib/python3.11/site-packages/tensorrt_libs:/home/chris/repos/deepweeds-kerascv/.venv/lib/python3.11/site-packages/nvidia/cufft/lib:/home/chris/repos/deepweeds-kerascv/.venv/lib/python3.11/site-packages/nvidia/curand/lib:/home/chris/repos/deepweeds-kerascv/.venv/lib/python3.11/site-packages/tensorrt_libs:/home/chris/repos/deepweeds-kerascv/.venv/lib/python3.11/site-packages/nvidia/cudnn/lib:/home/chris/repos/deepweeds-kerascv/.venv/lib/python3.11/site-packages/nvidia/cublas/lib:/home/chris/repos/deepweeds-kerascv/.venv/lib/python3.11/site-packages/nvidia/cudnn/lib:/home/chris/repos/deepweeds-kerascv/.venv/lib/python3.11/site-packages/nvidia/cudnn/lib:/home/chris/repos/deepweeds-kerascv/.venv/lib/python3.11/site-packages/nvidia/cublas/lib:/home/chris/repos/deepweeds-kerascv/.venv/lib/python3.11/site-packages/nvidia/cuda_nvrtc/lib:/home/chris/repos/deepweeds-kerascv/.venv/lib/python3.11/site-packages/nvidia/cufft/lib\n",
      "/home/chris/repos/deepweeds-kerascv/.venv/lib/python3.11/site-packages/nvidia/nvjitlink/lib\n",
      "/home/chris/repos/deepweeds-kerascv/.venv/lib/python3.11/site-packages/nvidia/cublas/lib\n",
      "/home/chris/repos/deepweeds-kerascv/.venv/lib/python3.11/site-packages/nvidia/cufft/lib\n",
      "/home/chris/repos/deepweeds-kerascv/.venv/lib/python3.11/site-packages/nvidia/cuda_nvrtc/lib\n",
      "/home/chris/repos/deepweeds-kerascv/.venv/lib/python3.11/site-packages/nvidia/cudnn/lib\n",
      "/home/chris/repos/deepweeds-kerascv/.venv/lib/python3.11/site-packages/tensorrt_libs\n",
      "/home/chris/repos/deepweeds-kerascv/.venv/lib/python3.11/site-packages/nvidia/curand/lib\n",
      "/home/chris/repos/deepweeds-kerascv/.venv/lib/python3.11/site-packages/nvidia/cuda_runtime/lib\n"
     ]
    }
   ],
   "source": [
    "from pathlib import Path\n",
    "import os\n",
    "venv_path = Path(\"../.venv\")\n",
    "\n",
    "get_libs = lambda pattern: set(venv_path.glob(pattern)) # noqa\n",
    "cuda_libs = get_libs('**/libcu*.so.*') | get_libs('**/libnv*.so.*')\n",
    "\n",
    "# path = os.environ['PATH']\n",
    "# ld_library_path = os.environ['LD_LIBRARY_PATH']\n",
    "# os.environ['PATH'] = f\"{':'.join(str(c.resolve()) for c in cuda_libs)}:{path}\"\n",
    "os.environ['LD_LIBRARY_PATH'] = f\"{':'.join(str(c.parent.resolve()) for c in cuda_libs)}\"\n",
    "print(os.environ['LD_LIBRARY_PATH'])\n",
    "for l in set([c.parent.resolve() for c in cuda_libs]):\n",
    "    print(l)"
   ]
  },
  {
   "cell_type": "markdown",
   "metadata": {},
   "source": [
    "^ This does not actually fix the dll load issues, instead the paths need to be added to an `/etc/ld.so.conf.d/` config + added to the linker path with `ldconfig` (see dockerfile)"
   ]
  },
  {
   "cell_type": "code",
   "execution_count": 3,
   "metadata": {},
   "outputs": [],
   "source": [
    "import onnxruntime as ort\n",
    "model_binary = Path('../models/MeNet.onnx')"
   ]
  },
  {
   "cell_type": "code",
   "execution_count": 4,
   "metadata": {},
   "outputs": [],
   "source": [
    "providers = [\"TensorrtExecutionProvider\", \"CUDAExecutionProvider\"]\n",
    "onnx_session = ort.InferenceSession(model_binary, providers=providers)"
   ]
  },
  {
   "cell_type": "code",
   "execution_count": 5,
   "metadata": {},
   "outputs": [
    {
     "data": {
      "text/plain": [
       "<CDLL 'libcudnn.so.9', handle 5557d04cf050 at 0x7f5f65e788d0>"
      ]
     },
     "execution_count": 5,
     "metadata": {},
     "output_type": "execute_result"
    }
   ],
   "source": [
    "import ctypes\n",
    "ctypes.CDLL('libcudnn.so.9')"
   ]
  },
  {
   "cell_type": "code",
   "execution_count": 19,
   "metadata": {},
   "outputs": [
    {
     "data": {
      "text/plain": [
       "(1, 256, 256, 3)"
      ]
     },
     "execution_count": 19,
     "metadata": {},
     "output_type": "execute_result"
    }
   ],
   "source": [
    "from PIL import Image\n",
    "import numpy as np\n",
    "\n",
    "input_name = onnx_session.get_inputs()[0].name\n",
    "output_name = onnx_session.get_outputs()[0].name\n",
    "\n",
    "image = Image.open('../data/images/train/chinee_apple/20160928-140314-0.jpg')\n",
    "image = image.convert(\"RGB\")\n",
    "batch = np.expand_dims(np.array(image).astype(np.float32), axis=0)\n",
    "batch.shape"
   ]
  },
  {
   "cell_type": "code",
   "execution_count": 28,
   "metadata": {},
   "outputs": [],
   "source": [
    "results = onnx_session.run([output_name], {input_name: batch})\n",
    "predictions = results[0][0]"
   ]
  },
  {
   "cell_type": "code",
   "execution_count": 29,
   "metadata": {},
   "outputs": [],
   "source": [
    "classes = [\n",
    "        \"rubber_vine\",\n",
    "        \"negative\",\n",
    "        \"parthenium\",\n",
    "        \"chinee_apple\",\n",
    "        \"prickly_acacia\",\n",
    "        \"snake_weed\",\n",
    "        \"parkinsonia\",\n",
    "        \"siam_weed\",\n",
    "        \"lantana\",\n",
    "    ]"
   ]
  },
  {
   "cell_type": "code",
   "execution_count": 30,
   "metadata": {},
   "outputs": [
    {
     "data": {
      "text/plain": [
       "[{'class': 'chinee_apple', 'confidence': 0.810660183429718},\n",
       " {'class': 'parthenium', 'confidence': 0.07430804520845413},\n",
       " {'class': 'snake_weed', 'confidence': 0.0398639515042305},\n",
       " {'class': 'negative', 'confidence': 0.03814992308616638},\n",
       " {'class': 'lantana', 'confidence': 0.020679837092757225},\n",
       " {'class': 'rubber_vine', 'confidence': 0.011621222831308842},\n",
       " {'class': 'prickly_acacia', 'confidence': 0.003306824481114745},\n",
       " {'class': 'parkinsonia', 'confidence': 0.000989916268736124},\n",
       " {'class': 'siam_weed', 'confidence': 0.00042002645204775035}]"
      ]
     },
     "execution_count": 30,
     "metadata": {},
     "output_type": "execute_result"
    }
   ],
   "source": [
    "top_results = [\n",
    "            {\"class\": classes[idx], \"confidence\": float(predictions[idx])}\n",
    "            for idx in np.argsort(predictions)[::-1]\n",
    "        ]\n",
    "\n",
    "top_results"
   ]
  },
  {
   "cell_type": "code",
   "execution_count": null,
   "metadata": {},
   "outputs": [],
   "source": []
  }
 ],
 "metadata": {
  "kernelspec": {
   "display_name": ".venv",
   "language": "python",
   "name": "python3"
  },
  "language_info": {
   "codemirror_mode": {
    "name": "ipython",
    "version": 3
   },
   "file_extension": ".py",
   "mimetype": "text/x-python",
   "name": "python",
   "nbconvert_exporter": "python",
   "pygments_lexer": "ipython3",
   "version": "3.11.11"
  }
 },
 "nbformat": 4,
 "nbformat_minor": 2
}

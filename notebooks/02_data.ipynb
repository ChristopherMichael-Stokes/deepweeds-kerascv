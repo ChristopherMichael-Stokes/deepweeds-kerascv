{
 "cells": [
  {
   "cell_type": "code",
   "execution_count": 1,
   "metadata": {},
   "outputs": [
    {
     "name": "stderr",
     "output_type": "stream",
     "text": [
      "2024-07-06 10:45:07.795110: E external/local_xla/xla/stream_executor/cuda/cuda_fft.cc:479] Unable to register cuFFT factory: Attempting to register factory for plugin cuFFT when one has already been registered\n",
      "2024-07-06 10:45:07.807489: E external/local_xla/xla/stream_executor/cuda/cuda_dnn.cc:10575] Unable to register cuDNN factory: Attempting to register factory for plugin cuDNN when one has already been registered\n",
      "2024-07-06 10:45:07.807504: E external/local_xla/xla/stream_executor/cuda/cuda_blas.cc:1442] Unable to register cuBLAS factory: Attempting to register factory for plugin cuBLAS when one has already been registered\n",
      "2024-07-06 10:45:07.815647: I tensorflow/core/platform/cpu_feature_guard.cc:210] This TensorFlow binary is optimized to use available CPU instructions in performance-critical operations.\n",
      "To enable the following instructions: AVX2 FMA, in other operations, rebuild TensorFlow with the appropriate compiler flags.\n",
      "2024-07-06 10:45:08.310680: W tensorflow/compiler/tf2tensorrt/utils/py_utils.cc:38] TF-TRT Warning: Could not find TensorRT\n"
     ]
    }
   ],
   "source": [
    "import tensorflow as tf\n",
    "import pandas as pd\n",
    "import plotly.express as px\n",
    "from pathlib import Path\n",
    "import numpy as np\n",
    "from sklearn.utils import compute_class_weight\n",
    "from sklearn.dummy import DummyClassifier\n",
    "\n",
    "from datasets import deep_weeds\n",
    "from sklearn import metrics"
   ]
  },
  {
   "cell_type": "code",
   "execution_count": 2,
   "metadata": {},
   "outputs": [],
   "source": [
    "data_dir = Path('../data/images/')\n",
    "train_path = data_dir / 'train'\n",
    "val_split = 0.1"
   ]
  },
  {
   "cell_type": "code",
   "execution_count": 3,
   "metadata": {},
   "outputs": [
    {
     "name": "stdout",
     "output_type": "stream",
     "text": [
      "Using 12607 files for training.\n",
      "Using 1400 files for validation.\n"
     ]
    },
    {
     "name": "stderr",
     "output_type": "stream",
     "text": [
      "2024-07-06 10:45:10.000412: I external/local_xla/xla/stream_executor/cuda/cuda_executor.cc:984] could not open file to read NUMA node: /sys/bus/pci/devices/0000:0c:00.0/numa_node\n",
      "Your kernel may have been built without NUMA support.\n",
      "2024-07-06 10:45:10.016921: I external/local_xla/xla/stream_executor/cuda/cuda_executor.cc:984] could not open file to read NUMA node: /sys/bus/pci/devices/0000:0c:00.0/numa_node\n",
      "Your kernel may have been built without NUMA support.\n",
      "2024-07-06 10:45:10.017189: I external/local_xla/xla/stream_executor/cuda/cuda_executor.cc:984] could not open file to read NUMA node: /sys/bus/pci/devices/0000:0c:00.0/numa_node\n",
      "Your kernel may have been built without NUMA support.\n",
      "2024-07-06 10:45:10.018969: I external/local_xla/xla/stream_executor/cuda/cuda_executor.cc:984] could not open file to read NUMA node: /sys/bus/pci/devices/0000:0c:00.0/numa_node\n",
      "Your kernel may have been built without NUMA support.\n",
      "2024-07-06 10:45:10.019317: I external/local_xla/xla/stream_executor/cuda/cuda_executor.cc:984] could not open file to read NUMA node: /sys/bus/pci/devices/0000:0c:00.0/numa_node\n",
      "Your kernel may have been built without NUMA support.\n",
      "2024-07-06 10:45:10.019570: I external/local_xla/xla/stream_executor/cuda/cuda_executor.cc:984] could not open file to read NUMA node: /sys/bus/pci/devices/0000:0c:00.0/numa_node\n",
      "Your kernel may have been built without NUMA support.\n",
      "2024-07-06 10:45:10.137560: I external/local_xla/xla/stream_executor/cuda/cuda_executor.cc:984] could not open file to read NUMA node: /sys/bus/pci/devices/0000:0c:00.0/numa_node\n",
      "Your kernel may have been built without NUMA support.\n",
      "2024-07-06 10:45:10.137878: I external/local_xla/xla/stream_executor/cuda/cuda_executor.cc:984] could not open file to read NUMA node: /sys/bus/pci/devices/0000:0c:00.0/numa_node\n",
      "Your kernel may have been built without NUMA support.\n",
      "2024-07-06 10:45:10.137892: I tensorflow/core/common_runtime/gpu/gpu_device.cc:2019] Could not identify NUMA node of platform GPU id 0, defaulting to 0.  Your kernel may not have been built with NUMA support.\n",
      "2024-07-06 10:45:10.138160: I external/local_xla/xla/stream_executor/cuda/cuda_executor.cc:984] could not open file to read NUMA node: /sys/bus/pci/devices/0000:0c:00.0/numa_node\n",
      "Your kernel may have been built without NUMA support.\n",
      "2024-07-06 10:45:10.138184: I tensorflow/core/common_runtime/gpu/gpu_device.cc:1928] Created device /job:localhost/replica:0/task:0/device:GPU:0 with 9502 MB memory:  -> device: 0, name: NVIDIA GeForce RTX 4070 Ti, pci bus id: 0000:0c:00.0, compute capability: 8.9\n"
     ]
    }
   ],
   "source": [
    "train_ds, val_ds = deep_weeds.get_train_val_dataloader(train_path)"
   ]
  },
  {
   "cell_type": "markdown",
   "metadata": {},
   "source": [
    "## 1 - Get class balance"
   ]
  },
  {
   "cell_type": "code",
   "execution_count": 4,
   "metadata": {},
   "outputs": [
    {
     "name": "stderr",
     "output_type": "stream",
     "text": [
      "2024-07-06 10:45:13.220710: W tensorflow/core/framework/local_rendezvous.cc:404] Local rendezvous is aborting with status: OUT_OF_RANGE: End of sequence\n"
     ]
    }
   ],
   "source": [
    "ys = np.array([y.numpy() for _,y in train_ds])"
   ]
  },
  {
   "cell_type": "code",
   "execution_count": 5,
   "metadata": {},
   "outputs": [
    {
     "data": {
      "text/plain": [
       "array([1.90323068, 0.21467859, 1.87520452, 1.69585687, 1.83108206,\n",
       "       1.96738452, 1.8701973 , 1.79586895, 1.8263074 ])"
      ]
     },
     "execution_count": 5,
     "metadata": {},
     "output_type": "execute_result"
    }
   ],
   "source": [
    "class_weight = compute_class_weight(class_weight='balanced', classes=np.unique(ys), y=ys)\n",
    "class_weight"
   ]
  },
  {
   "cell_type": "code",
   "execution_count": 6,
   "metadata": {},
   "outputs": [
    {
     "data": {
      "text/plain": [
       "array([0.12705305, 0.01433119, 0.12518212, 0.1132095 , 0.12223666,\n",
       "       0.13133574, 0.12484786, 0.11988596, 0.12191792])"
      ]
     },
     "execution_count": 6,
     "metadata": {},
     "output_type": "execute_result"
    }
   ],
   "source": [
    "focal_loss_alpha = class_weight / class_weight.sum()\n",
    "focal_loss_alpha"
   ]
  },
  {
   "cell_type": "code",
   "execution_count": 7,
   "metadata": {},
   "outputs": [
    {
     "name": "stdout",
     "output_type": "stream",
     "text": [
      "0: 1.9032306763285025\n",
      "1: 0.2146785866326096\n",
      "2: 1.8752045217908673\n",
      "3: 1.6958568738229756\n",
      "4: 1.8310820624546116\n",
      "5: 1.9673845193508115\n",
      "6: 1.870197300103842\n",
      "7: 1.7958689458689459\n",
      "8: 1.826307402578589\n"
     ]
    }
   ],
   "source": [
    "for idx, n in enumerate(class_weight):\n",
    "    print(f'{idx}: {n}')"
   ]
  },
  {
   "cell_type": "markdown",
   "metadata": {},
   "source": [
    "## 2 - Get baseline results"
   ]
  },
  {
   "cell_type": "code",
   "execution_count": 8,
   "metadata": {},
   "outputs": [],
   "source": [
    "X = np.zeros_like(ys)"
   ]
  },
  {
   "cell_type": "code",
   "execution_count": 9,
   "metadata": {},
   "outputs": [],
   "source": [
    "def get_metrics(y, y_pred):\n",
    "    return {\n",
    "        'accuracy': metrics.accuracy_score(y, y_pred),\n",
    "        'recall': metrics.recall_score(y, y_pred, average='macro'),\n",
    "        'precision': metrics.precision_score(y, y_pred, average='macro'),\n",
    "    }"
   ]
  },
  {
   "cell_type": "code",
   "execution_count": 10,
   "metadata": {},
   "outputs": [
    {
     "name": "stdout",
     "output_type": "stream",
     "text": [
      "Strategy: stratified,\n",
      "{'accuracy': 0.29110811453954155, 'recall': 0.11036791609539978, 'precision': 0.11029397614556909}\n",
      "\n",
      "Strategy: prior,\n",
      "{'accuracy': 0.29087015150313317, 'recall': 0.11041313864309091, 'precision': 0.1104412037533023}\n",
      "\n",
      "Strategy: uniform,\n",
      "{'accuracy': 0.29872293170460856, 'recall': 0.11380884613749968, 'precision': 0.11390514671741592}\n",
      "\n",
      "Strategy: most_frequent,\n",
      "{'accuracy': 0.29420163401285, 'recall': 0.10693324987816817, 'precision': 0.10685589429711115}\n",
      "\n"
     ]
    }
   ],
   "source": [
    "strategies = ['stratified', 'prior', 'uniform', 'most_frequent']\n",
    "for strategy in strategies:\n",
    "    model = DummyClassifier(strategy='stratified')\n",
    "    model.fit(X, ys)\n",
    "    y_pred = model.predict(X)\n",
    "    dummy_metrics = get_metrics(ys, y_pred)\n",
    "\n",
    "    print(f'Strategy: {strategy},\\n{dummy_metrics}\\n')"
   ]
  },
  {
   "cell_type": "code",
   "execution_count": null,
   "metadata": {},
   "outputs": [],
   "source": []
  }
 ],
 "metadata": {
  "kernelspec": {
   "display_name": ".venv",
   "language": "python",
   "name": "python3"
  },
  "language_info": {
   "codemirror_mode": {
    "name": "ipython",
    "version": 3
   },
   "file_extension": ".py",
   "mimetype": "text/x-python",
   "name": "python",
   "nbconvert_exporter": "python",
   "pygments_lexer": "ipython3",
   "version": "3.11.9"
  }
 },
 "nbformat": 4,
 "nbformat_minor": 2
}

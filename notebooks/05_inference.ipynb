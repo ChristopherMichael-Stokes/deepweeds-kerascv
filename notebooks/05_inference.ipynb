{
 "cells": [
  {
   "cell_type": "code",
   "execution_count": null,
   "metadata": {},
   "outputs": [],
   "source": [
    "import keras\n",
    "from deepweeds.models import not_resnet\n",
    "import tensorflow as tf\n",
    "import onnxruntime as rt\n",
    "from pathlib import Path\n",
    "import tf2onnx\n",
    "from omegaconf import OmegaConf"
   ]
  },
  {
   "cell_type": "code",
   "execution_count": null,
   "metadata": {},
   "outputs": [],
   "source": [
    "cfg = OmegaConf.load('../conf/config.yaml')\n",
    "model_path = Path('../outputs/2025-02-20/14-04-37/MeNet.keras')\n",
    "keras.mixed_precision.set_global_policy('float32')\n",
    "model = not_resnet(**cfg.model)\n",
    "model.load_weights(model_path)"
   ]
  },
  {
   "cell_type": "code",
   "execution_count": null,
   "metadata": {},
   "outputs": [],
   "source": [
    "# model = keras.saving.load_model(model_path)"
   ]
  },
  {
   "cell_type": "code",
   "execution_count": null,
   "metadata": {},
   "outputs": [],
   "source": [
    "dtypes = []\n",
    "for layer in model.layers:\n",
    "    for w in layer.get_weights():\n",
    "        dtypes.append(w.dtype)\n",
    "    # weights = [w.astype('float32') for w in weights]\n",
    "    # layer.set_weights(weights)\n",
    "\n",
    "assert all(w == 'float32' for w in dtypes)"
   ]
  },
  {
   "cell_type": "code",
   "execution_count": null,
   "metadata": {},
   "outputs": [],
   "source": [
    "onnx_path = Path('./models') / f\"{model.name}.onnx\"\n",
    "spec = (tf.TensorSpec((None, 256, 256, 3), tf.float32, name=\"input\"),)\n",
    "model_proto, _ = tf2onnx.convert.from_keras(model, input_signature=spec, opset=13, output_path=onnx_path)\n",
    "output_names = [n.name for n in model_proto.graph.output]\n",
    "# model.export(onnx_path, format='onnx', input_signature=input_spec)"
   ]
  },
  {
   "cell_type": "code",
   "execution_count": null,
   "metadata": {},
   "outputs": [],
   "source": [
    "del model"
   ]
  },
  {
   "cell_type": "code",
   "execution_count": null,
   "metadata": {},
   "outputs": [],
   "source": [
    "m = rt.InferenceSession(onnx_path)"
   ]
  }
 ],
 "metadata": {
  "kernelspec": {
   "display_name": ".venv",
   "language": "python",
   "name": "python3"
  },
  "language_info": {
   "codemirror_mode": {
    "name": "ipython",
    "version": 3
   },
   "file_extension": ".py",
   "mimetype": "text/x-python",
   "name": "python",
   "nbconvert_exporter": "python",
   "pygments_lexer": "ipython3",
   "version": "3.11.11"
  }
 },
 "nbformat": 4,
 "nbformat_minor": 2
}
